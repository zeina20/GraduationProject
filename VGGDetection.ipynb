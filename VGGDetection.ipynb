{
  "cells": [
    {
      "cell_type": "code",
      "execution_count": 1,
      "metadata": {
        "id": "BMrRRyd8Bc0J"
      },
      "outputs": [],
      "source": [
        "import pickle"
      ]
    },
    {
      "cell_type": "code",
      "execution_count": 2,
      "metadata": {
        "colab": {
          "base_uri": "https://localhost:8080/"
        },
        "id": "YCrPqCH6B1P1",
        "outputId": "acdc35d6-03cc-45de-c836-a28882a1d968"
      },
      "outputs": [],
      "source": [
        "# from google.colab import drive\n",
        "# drive.mount('/content/drive')"
      ]
    },
    {
      "cell_type": "code",
      "execution_count": 6,
      "metadata": {
        "colab": {
          "base_uri": "https://localhost:8080/",
          "height": 140
        },
        "id": "54pIbIHtgBcg",
        "outputId": "1bbf2763-728d-488c-db68-064616bc6d32"
      },
      "outputs": [
        {
          "name": "stdout",
          "output_type": "stream",
          "text": [
            "1\n"
          ]
        },
        {
          "ename": "NameError",
          "evalue": "name 'cv2_imshow' is not defined",
          "output_type": "error",
          "traceback": [
            "\u001b[1;31m---------------------------------------------------------------------------\u001b[0m",
            "\u001b[1;31mNameError\u001b[0m                                 Traceback (most recent call last)",
            "\u001b[1;32m~\\AppData\\Local\\Temp/ipykernel_8336/1475058258.py\u001b[0m in \u001b[0;36m<module>\u001b[1;34m\u001b[0m\n\u001b[0;32m     50\u001b[0m \u001b[1;33m\u001b[0m\u001b[0m\n\u001b[0;32m     51\u001b[0m     \u001b[1;31m# Display\u001b[0m\u001b[1;33m\u001b[0m\u001b[1;33m\u001b[0m\u001b[0m\n\u001b[1;32m---> 52\u001b[1;33m         \u001b[0mcv2_imshow\u001b[0m\u001b[1;33m(\u001b[0m\u001b[0mcrop_img\u001b[0m\u001b[1;33m)\u001b[0m\u001b[1;33m\u001b[0m\u001b[1;33m\u001b[0m\u001b[0m\n\u001b[0m\u001b[0;32m     53\u001b[0m         \u001b[1;31m#img.save('/content/gdrive/MyDrive/Fake-Face-Detection-DeepFakes-CNN-master/faces/train'+ crop_img , 'JPEG')\u001b[0m\u001b[1;33m\u001b[0m\u001b[1;33m\u001b[0m\u001b[0m\n\u001b[0;32m     54\u001b[0m     \u001b[1;31m# Stop if escape key is pressed\u001b[0m\u001b[1;33m\u001b[0m\u001b[1;33m\u001b[0m\u001b[0m\n",
            "\u001b[1;31mNameError\u001b[0m: name 'cv2_imshow' is not defined"
          ]
        }
      ],
      "source": [
        "from PIL import Image\n",
        "import cv2  \n",
        "import glob\n",
        "import time\n",
        "# import cv2\n",
        "#from google.colab.patches import cv2_imshow  \n",
        "img_number=0\n",
        "# Load the cascade  \n",
        "face_cascade=cv2.CascadeClassifier(cv2.data.haarcascades + \"haarcascade_frontalface_default.xml\")\n",
        "#file path\n",
        "path='D:/semester7/graduation project/Website (1)/preprocessing/'  \n",
        "all_videos=glob.glob(path + \"*mp4\")\n",
        "li=[]\n",
        "counter=0\n",
        "for video in all_videos:\n",
        "  # To capture video from existing video.  \n",
        "  cap = cv2.VideoCapture(video)  \n",
        "  counter=counter+1\n",
        "  print(counter)\n",
        "  #while True:  \n",
        "    # Read the frame \n",
        "  _, img = cap.read()     \n",
        "  _, img = cap.read()\n",
        "  #cv2_imshow(img)  \n",
        "    # Convert to grayscale  \n",
        "    #gray = cv2.cvtColor(img, cv2.COLOR_BGR2GRAY)  \n",
        " \n",
        "    # Detect the faces  \n",
        "  faces = face_cascade.detectMultiScale(img, scaleFactor=1.1, minNeighbors=2)  \n",
        "  wmax=0\n",
        "  hmax=0\n",
        "  ImageFolder ='D:/semester7/graduation project/Website (1)/faceimg/'\n",
        "    # Draw the rectangle around each face  \n",
        "  for (x, y, w, h) in faces: \n",
        "    if w>wmax and h>hmax:\n",
        "      wmax=w\n",
        "      hmax=h\n",
        "  #print(wmax)\n",
        "  #print(hmax)\n",
        "  for (x, y, w, h) in faces: \n",
        "    img_number=img_number+1\n",
        "    if w == wmax and h==hmax : \n",
        "        cv2.rectangle(img, (x, y), (x+w, y+h), (255, 0, 0), 1)  \n",
        "        crop_img = img[y:y+h, x:x+w]\n",
        "        li.append(crop_img)\n",
        "        cv2.imwrite(\"D:/semester7/graduation project/Website (1)/faceimg/\"+str(\"image\")+\".jpg\",crop_img)\n",
        "        #crop_img = crop_img.save(\"/content/gdrive/MyDrive/Fake-Face-Detection-DeepFakes-CNN-master/faces/trainimage_\"+str(img_number)+\".jpg\")\n",
        "        #test=cv2.imwrite('/content/gdrive/MyDrive/Fake-Face-Detection-DeepFakes-CNN-master/faces/train/image_{i}.png',crop_img)\n",
        "        #print(test)\n",
        "        \n",
        "    # Display  \n",
        "        cv2_imshow(crop_img) \n",
        "        #img.save('/content/gdrive/MyDrive/Fake-Face-Detection-DeepFakes-CNN-master/faces/train'+ crop_img , 'JPEG')\n",
        "    # Stop if escape key is pressed  \n",
        "  k = cv2.waitKey(1000) & 0xff  \n",
        "  if k==27:  \n",
        "        break  \n",
        "         \n",
        "# Release the VideoCapture object  \n",
        "  cap.release()"
      ]
    },
    {
      "cell_type": "code",
      "execution_count": 10,
      "metadata": {
        "colab": {
          "base_uri": "https://localhost:8080/",
          "height": 165
        },
        "id": "VPw9ZL0mBnAT",
        "outputId": "b122b746-9119-4530-cdf7-cc45e603e450"
      },
      "outputs": [
        {
          "ename": "ReadError",
          "evalue": "file could not be opened successfully",
          "output_type": "error",
          "traceback": [
            "\u001b[1;31m---------------------------------------------------------------------------\u001b[0m",
            "\u001b[1;31mReadError\u001b[0m                                 Traceback (most recent call last)",
            "\u001b[1;32m~\\AppData\\Local\\Temp/ipykernel_18484/2135870416.py\u001b[0m in \u001b[0;36m<module>\u001b[1;34m\u001b[0m\n\u001b[1;32m----> 1\u001b[1;33m \u001b[0mpickled_model\u001b[0m \u001b[1;33m=\u001b[0m \u001b[0mpickle\u001b[0m\u001b[1;33m.\u001b[0m\u001b[0mload\u001b[0m\u001b[1;33m(\u001b[0m\u001b[0mopen\u001b[0m\u001b[1;33m(\u001b[0m\u001b[1;34m'D:/semester7/graduation project/Website (1)/model23.pkl'\u001b[0m\u001b[1;33m,\u001b[0m \u001b[1;34m'rb'\u001b[0m\u001b[1;33m)\u001b[0m\u001b[1;33m)\u001b[0m\u001b[1;33m\u001b[0m\u001b[1;33m\u001b[0m\u001b[0m\n\u001b[0m",
            "\u001b[1;32mc:\\ProgramData\\Anaconda3\\lib\\site-packages\\keras\\saving\\pickle_utils.py\u001b[0m in \u001b[0;36mdeserialize_model_from_bytecode\u001b[1;34m(serialized_model)\u001b[0m\n\u001b[0;32m     38\u001b[0m   \u001b[0mtemp_dir\u001b[0m \u001b[1;33m=\u001b[0m \u001b[1;34mf\"ram://{uuid.uuid4()}\"\u001b[0m\u001b[1;33m\u001b[0m\u001b[1;33m\u001b[0m\u001b[0m\n\u001b[0;32m     39\u001b[0m   \u001b[0mb\u001b[0m \u001b[1;33m=\u001b[0m \u001b[0mio\u001b[0m\u001b[1;33m.\u001b[0m\u001b[0mBytesIO\u001b[0m\u001b[1;33m(\u001b[0m\u001b[0mserialized_model\u001b[0m\u001b[1;33m)\u001b[0m\u001b[1;33m\u001b[0m\u001b[1;33m\u001b[0m\u001b[0m\n\u001b[1;32m---> 40\u001b[1;33m   \u001b[1;32mwith\u001b[0m \u001b[0mtarfile\u001b[0m\u001b[1;33m.\u001b[0m\u001b[0mopen\u001b[0m\u001b[1;33m(\u001b[0m\u001b[0mfileobj\u001b[0m\u001b[1;33m=\u001b[0m\u001b[0mb\u001b[0m\u001b[1;33m,\u001b[0m \u001b[0mmode\u001b[0m\u001b[1;33m=\u001b[0m\u001b[1;34m\"r\"\u001b[0m\u001b[1;33m)\u001b[0m \u001b[1;32mas\u001b[0m \u001b[0marchive\u001b[0m\u001b[1;33m:\u001b[0m\u001b[1;33m\u001b[0m\u001b[1;33m\u001b[0m\u001b[0m\n\u001b[0m\u001b[0;32m     41\u001b[0m     \u001b[1;32mfor\u001b[0m \u001b[0mname\u001b[0m \u001b[1;32min\u001b[0m \u001b[0marchive\u001b[0m\u001b[1;33m.\u001b[0m\u001b[0mgetnames\u001b[0m\u001b[1;33m(\u001b[0m\u001b[1;33m)\u001b[0m\u001b[1;33m:\u001b[0m\u001b[1;33m\u001b[0m\u001b[1;33m\u001b[0m\u001b[0m\n\u001b[0;32m     42\u001b[0m       \u001b[0mdest_path\u001b[0m \u001b[1;33m=\u001b[0m \u001b[0mtf\u001b[0m\u001b[1;33m.\u001b[0m\u001b[0mio\u001b[0m\u001b[1;33m.\u001b[0m\u001b[0mgfile\u001b[0m\u001b[1;33m.\u001b[0m\u001b[0mjoin\u001b[0m\u001b[1;33m(\u001b[0m\u001b[0mtemp_dir\u001b[0m\u001b[1;33m,\u001b[0m \u001b[0mname\u001b[0m\u001b[1;33m)\u001b[0m\u001b[1;33m\u001b[0m\u001b[1;33m\u001b[0m\u001b[0m\n",
            "\u001b[1;32mc:\\ProgramData\\Anaconda3\\lib\\tarfile.py\u001b[0m in \u001b[0;36mopen\u001b[1;34m(cls, name, mode, fileobj, bufsize, **kwargs)\u001b[0m\n\u001b[0;32m   1614\u001b[0m                         \u001b[0mfileobj\u001b[0m\u001b[1;33m.\u001b[0m\u001b[0mseek\u001b[0m\u001b[1;33m(\u001b[0m\u001b[0msaved_pos\u001b[0m\u001b[1;33m)\u001b[0m\u001b[1;33m\u001b[0m\u001b[1;33m\u001b[0m\u001b[0m\n\u001b[0;32m   1615\u001b[0m                     \u001b[1;32mcontinue\u001b[0m\u001b[1;33m\u001b[0m\u001b[1;33m\u001b[0m\u001b[0m\n\u001b[1;32m-> 1616\u001b[1;33m             \u001b[1;32mraise\u001b[0m \u001b[0mReadError\u001b[0m\u001b[1;33m(\u001b[0m\u001b[1;34m\"file could not be opened successfully\"\u001b[0m\u001b[1;33m)\u001b[0m\u001b[1;33m\u001b[0m\u001b[1;33m\u001b[0m\u001b[0m\n\u001b[0m\u001b[0;32m   1617\u001b[0m \u001b[1;33m\u001b[0m\u001b[0m\n\u001b[0;32m   1618\u001b[0m         \u001b[1;32melif\u001b[0m \u001b[1;34m\":\"\u001b[0m \u001b[1;32min\u001b[0m \u001b[0mmode\u001b[0m\u001b[1;33m:\u001b[0m\u001b[1;33m\u001b[0m\u001b[1;33m\u001b[0m\u001b[0m\n",
            "\u001b[1;31mReadError\u001b[0m: file could not be opened successfully"
          ]
        }
      ],
      "source": [
        "pickled_model = pickle.load(open('D:/semester7/graduation project/Website (1)/model23.pkl', 'rb'))"
      ]
    },
    {
      "cell_type": "code",
      "execution_count": 9,
      "metadata": {
        "colab": {
          "base_uri": "https://localhost:8080/",
          "height": 235
        },
        "id": "XqrY-sBSIWMo",
        "outputId": "3a984d2c-7d7c-4d23-acaf-f6a1e3125e0d"
      },
      "outputs": [
        {
          "ename": "NameError",
          "evalue": "name 'pickled_model' is not defined",
          "output_type": "error",
          "traceback": [
            "\u001b[1;31m---------------------------------------------------------------------------\u001b[0m",
            "\u001b[1;31mNameError\u001b[0m                                 Traceback (most recent call last)",
            "\u001b[1;32m~\\AppData\\Local\\Temp/ipykernel_18484/1018536599.py\u001b[0m in \u001b[0;36m<module>\u001b[1;34m\u001b[0m\n\u001b[0;32m      2\u001b[0m \u001b[1;32mimport\u001b[0m \u001b[0mcv2\u001b[0m\u001b[1;33m\u001b[0m\u001b[1;33m\u001b[0m\u001b[0m\n\u001b[0;32m      3\u001b[0m \u001b[1;32mimport\u001b[0m \u001b[0mnumpy\u001b[0m \u001b[1;32mas\u001b[0m \u001b[0mnp\u001b[0m\u001b[1;33m\u001b[0m\u001b[1;33m\u001b[0m\u001b[0m\n\u001b[1;32m----> 4\u001b[1;33m pickled_model.compile(loss='binary_crossentropy',\n\u001b[0m\u001b[0;32m      5\u001b[0m               \u001b[0moptimizer\u001b[0m\u001b[1;33m=\u001b[0m\u001b[1;34m'rmsprop'\u001b[0m\u001b[1;33m,\u001b[0m\u001b[1;33m\u001b[0m\u001b[1;33m\u001b[0m\u001b[0m\n\u001b[0;32m      6\u001b[0m               metrics=['accuracy'])\n",
            "\u001b[1;31mNameError\u001b[0m: name 'pickled_model' is not defined"
          ]
        }
      ],
      "source": [
        "from keras.models import load_model\n",
        "import cv2\n",
        "import numpy as np\n",
        "pickled_model.compile(loss='binary_crossentropy',\n",
        "              optimizer='rmsprop',\n",
        "              metrics=['accuracy'])\n",
        "\n",
        "img = cv2.imread('/content/drive/MyDrive/faceimg/image.jpg')\n",
        "gray=cv2.cvtColor(img, cv2.COLOR_BGR2GRAY)\n",
        "gray = cv2.resize(gray,(128,128))\n",
        "img = np.reshape(gray,[-1,128,128,1])\n",
        "# img2 =gray.reshape(-1, 128, 128, 1)\n",
        "final_image = np.expand_dims(img, axis=-1) \n",
        "final_image = np.reshape(final_image, (1, final_image.shape[0], final_image.shape[1],1))\n",
        "\n",
        "# image = np.array(Image.open(\"/content/drive/MyDrive/Fake-Face-Detection-DeepFakes-CNN-master/faces/train/image_1007.jpg\").resize((96, 96)))\n",
        "images_list = []\n",
        "images_list.append(np.array(final_image))\n",
        "x = np.asarray(images_list)\n",
        "pr_mask = pickled_model.predict(x).round()\n",
        "\n",
        "# plt.imshow(\n",
        "# pr_mask[0]\n",
        "# )\n",
        "# plt.show()\n",
        "print(pr_mask[0])\n",
        "#classes = pickled_model.predict_classes(img)\n",
        "#predict_x=pickled_model.predict(img) \n",
        "#classes_x=np.argmax(predict_x,axis=1)\n",
        "\n",
        "#print (predict_x)"
      ]
    },
    {
      "cell_type": "code",
      "execution_count": null,
      "metadata": {
        "id": "JesY7f5WGA1n"
      },
      "outputs": [],
      "source": []
    },
    {
      "cell_type": "code",
      "execution_count": null,
      "metadata": {
        "id": "W8xv8VV2FG-t"
      },
      "outputs": [],
      "source": [
        "from PIL import Image\n",
        "import cv2  \n",
        "import glob\n",
        "import time\n",
        "from google.colab.patches import cv2_imshow  \n",
        "img_number=0\n",
        "# Load the cascade  \n",
        "face_cascade=cv2.CascadeClassifier(cv2.data.haarcascades + \"haarcascade_frontalface_default.xml\")\n",
        "#file path\n",
        "path='/content/drive/MyDrive/Fake-Face-Detection-DeepFakes-CNN-master/videos/train_sample_videos/aagfhgtpmv.mp4'  \n",
        "all_videos=glob.glob(path + \"*mp4\")\n",
        "li=[]\n",
        "counter=0\n",
        "for video in all_videos:\n",
        "  # To capture video from existing video.  \n",
        "  cap = cv2.VideoCapture(video)  \n",
        "  counter=counter+1\n",
        "  print(counter)\n",
        "  #while True:  \n",
        "    # Read the frame \n",
        "  _, img = cap.read()     \n",
        "  _, img = cap.read()\n",
        "  #cv2_imshow(img)  \n",
        "    # Convert to grayscale  \n",
        "    #gray = cv2.cvtColor(img, cv2.COLOR_BGR2GRAY)  \n",
        " \n",
        "    # Detect the faces  \n",
        "  faces = face_cascade.detectMultiScale(img, scaleFactor=1.1, minNeighbors=2)  \n",
        "  wmax=0\n",
        "  hmax=0\n",
        "  #ImageFolder ='/content/gdrive/MyDrive/Fake-Face-Detection-DeepFakes-CNN-master/faces/train'\n",
        "    # Draw the rectangle around each face  \n",
        "  for (x, y, w, h) in faces: \n",
        "    if w>wmax and h>hmax:\n",
        "      wmax=w\n",
        "      hmax=h\n",
        "  #print(wmax)\n",
        "  #print(hmax)\n",
        "  for (x, y, w, h) in faces: \n",
        "    img_number=img_number+1\n",
        "    if w == wmax and h==hmax : \n",
        "        cv2.rectangle(img, (x, y), (x+w, y+h), (255, 0, 0), 1)  \n",
        "        crop_img = img[y:y+h, x:x+w]\n",
        "        li.append(crop_img)\n",
        "        cv2.imwrite(\"/content/gdrive/MyDrive/Fake-Face-Detection-DeepFakes-CNN-master/faces/train/image_\"+str(img_number)+\".jpg\",crop_img)\n",
        "        #crop_img = crop_img.save(\"/content/gdrive/MyDrive/Fake-Face-Detection-DeepFakes-CNN-master/faces/trainimage_\"+str(img_number)+\".jpg\")\n",
        "        #test=cv2.imwrite('/content/gdrive/MyDrive/Fake-Face-Detection-DeepFakes-CNN-master/faces/train/image_{i}.png',crop_img)\n",
        "        #print(test)\n",
        "        \n",
        "    # Display  \n",
        "        cv2_imshow(crop_img) \n",
        "        #img.save('/content/gdrive/MyDrive/Fake-Face-Detection-DeepFakes-CNN-master/faces/train'+ crop_img , 'JPEG')\n",
        "    # Stop if escape key is pressed  \n",
        "  k = cv2.waitKey(1000) & 0xff  \n",
        "  if k==27:  \n",
        "        break  \n",
        "         \n",
        "# Release the VideoCapture object  \n",
        "  cap.release()"
      ]
    }
  ],
  "metadata": {
    "colab": {
      "provenance": []
    },
    "kernelspec": {
      "display_name": "base",
      "language": "python",
      "name": "python3"
    },
    "language_info": {
      "codemirror_mode": {
        "name": "ipython",
        "version": 3
      },
      "file_extension": ".py",
      "mimetype": "text/x-python",
      "name": "python",
      "nbconvert_exporter": "python",
      "pygments_lexer": "ipython3",
      "version": "3.9.7"
    },
    "vscode": {
      "interpreter": {
        "hash": "ad2bdc8ecc057115af97d19610ffacc2b4e99fae6737bb82f5d7fb13d2f2c186"
      }
    }
  },
  "nbformat": 4,
  "nbformat_minor": 0
}
