{
  "cells": [
    {
      "cell_type": "code",
      "execution_count": 1,
      "metadata": {
        "id": "BMrRRyd8Bc0J"
      },
      "outputs": [],
      "source": [
        "import pickle"
      ]
    },
    {
      "cell_type": "code",
      "execution_count": 2,
      "metadata": {
        "colab": {
          "base_uri": "https://localhost:8080/"
        },
        "id": "YCrPqCH6B1P1",
        "outputId": "b5ee70ef-b207-4017-ad72-33c75a9ea401"
      },
      "outputs": [
        {
          "name": "stdout",
          "output_type": "stream",
          "text": [
            "Mounted at /content/drive\n"
          ]
        }
      ],
      "source": [
        "from google.colab import drive\n",
        "drive.mount('/content/drive')"
      ]
    },
    {
      "cell_type": "code",
      "execution_count": 3,
      "metadata": {
        "colab": {
          "base_uri": "https://localhost:8080/",
          "height": 140
        },
        "id": "82M0wRXhyVZz",
        "outputId": "c13e803d-3dfd-4774-fb50-dd3d253d228d"
      },
      "outputs": [
        {
          "name": "stdout",
          "output_type": "stream",
          "text": [
            "1\n"
          ]
        },
        {
          "data": {
            "image/png": "[encoded data removed]",
            "text/plain": [
              "<PIL.Image.Image image mode=RGB size=106x106 at 0x7F9499AC6460>"
            ]
          },
          "metadata": {},
          "output_type": "display_data"
        }
      ],
      "source": [
        "from PIL import Image\n",
        "import cv2  \n",
        "import glob\n",
        "import time\n",
        "from google.colab.patches import cv2_imshow  \n",
        "img_number=0\n",
        "# Load the cascade  \n",
        "face_cascade=cv2.CascadeClassifier(cv2.data.haarcascades + \"haarcascade_frontalface_default.xml\")\n",
        "#file path\n",
        "path='/content/drive/MyDrive/preprocessing/'  \n",
        "all_videos=glob.glob(path + \"*mp4\")\n",
        "li=[]\n",
        "counter=0\n",
        "for video in all_videos:\n",
        "  # To capture video from existing video.  \n",
        "  cap = cv2.VideoCapture(video)  \n",
        "  counter=counter+1\n",
        "  print(counter)\n",
        "  #while True:  \n",
        "    # Read the frame \n",
        "  _, img = cap.read()     \n",
        "  _, img = cap.read()\n",
        "  #cv2_imshow(img)  \n",
        "    # Convert to grayscale  \n",
        "    #gray = cv2.cvtColor(img, cv2.COLOR_BGR2GRAY)  \n",
        " \n",
        "    # Detect the faces  \n",
        "  faces = face_cascade.detectMultiScale(img, scaleFactor=1.1, minNeighbors=2)  \n",
        "  wmax=0\n",
        "  hmax=0\n",
        "  ImageFolder ='/content/drive/MyDrive/faceimg/'\n",
        "    # Draw the rectangle around each face  \n",
        "  for (x, y, w, h) in faces: \n",
        "    if w>wmax and h>hmax:\n",
        "      wmax=w\n",
        "      hmax=h\n",
        "  #print(wmax)\n",
        "  #print(hmax)\n",
        "  for (x, y, w, h) in faces: \n",
        "    img_number=img_number+1\n",
        "    if w == wmax and h==hmax : \n",
        "        cv2.rectangle(img, (x, y), (x+w, y+h), (255, 0, 0), 1)  \n",
        "        crop_img = img[y:y+h, x:x+w]\n",
        "        li.append(crop_img)\n",
        "        cv2.imwrite(\"/content/drive/MyDrive/faceimg/\"+str(\"image\")+\".jpg\",crop_img)\n",
        "        #crop_img = crop_img.save(\"/content/gdrive/MyDrive/Fake-Face-Detection-DeepFakes-CNN-master/faces/trainimage_\"+str(img_number)+\".jpg\")\n",
        "        #test=cv2.imwrite('/content/gdrive/MyDrive/Fake-Face-Detection-DeepFakes-CNN-master/faces/train/image_{i}.png',crop_img)\n",
        "        #print(test)\n",
        "        \n",
        "    # Display  \n",
        "        cv2_imshow(crop_img) \n",
        "        #img.save('/content/gdrive/MyDrive/Fake-Face-Detection-DeepFakes-CNN-master/faces/train'+ crop_img , 'JPEG')\n",
        "    # Stop if escape key is pressed  \n",
        "  k = cv2.waitKey(1000) & 0xff  \n",
        "  if k==27:  \n",
        "        break  \n",
        "         \n",
        "# Release the VideoCapture object  \n",
        "  cap.release()"
      ]
    },
    {
      "cell_type": "code",
      "execution_count": 6,
      "metadata": {
        "colab": {
          "base_uri": "https://localhost:8080/"
        },
        "id": "VPw9ZL0mBnAT",
        "outputId": "02164d3b-9bc2-4e39-8e62-a1d5d9b2ed78"
      },
      "outputs": [
        {
          "name": "stdout",
          "output_type": "stream",
          "text": [
            "Keras model archive loading:\n",
            "File Name                                             Modified             Size\n",
            "config.json                                    2023-02-26 13:58:12        10839\n",
            "metadata.json                                  2023-02-26 13:58:12           64\n",
            "variables.h5                                   2023-02-26 13:58:12     12696992\n",
            "Keras weights file (<HDF5 file \"variables.h5\" (mode r)>) loading:\n",
            "...layers\n",
            "......batch_normalization\n",
            ".........vars\n",
            "............0\n",
            "............1\n",
            "............2\n",
            "............3\n",
            "......batch_normalization_1\n",
            ".........vars\n",
            "............0\n",
            "............1\n",
            "............2\n",
            "............3\n",
            "......batch_normalization_2\n",
            ".........vars\n",
            "............0\n",
            "............1\n",
            "............2\n",
            "............3\n",
            "......batch_normalization_3\n",
            ".........vars\n",
            "............0\n",
            "............1\n",
            "............2\n",
            "............3\n",
            "......batch_normalization_4\n",
            ".........vars\n",
            "............0\n",
            "............1\n",
            "............2\n",
            "............3\n",
            "......batch_normalization_5\n",
            ".........vars\n",
            "............0\n",
            "............1\n",
            "............2\n",
            "............3\n",
            "......batch_normalization_6\n",
            ".........vars\n",
            "............0\n",
            "............1\n",
            "............2\n",
            "............3\n",
            "......conv2d\n",
            ".........vars\n",
            "............0\n",
            "............1\n",
            "......conv2d_1\n",
            ".........vars\n",
            "............0\n",
            "............1\n",
            "......conv2d_2\n",
            ".........vars\n",
            "............0\n",
            "............1\n",
            "......conv2d_3\n",
            ".........vars\n",
            "............0\n",
            "............1\n",
            "......conv2d_4\n",
            ".........vars\n",
            "............0\n",
            "............1\n",
            "......conv2d_5\n",
            ".........vars\n",
            "............0\n",
            "............1\n",
            "......dense\n",
            ".........vars\n",
            "............0\n",
            "............1\n",
            "......dropout\n",
            ".........vars\n",
            "......dropout_1\n",
            ".........vars\n",
            "......dropout_2\n",
            ".........vars\n",
            "......dropout_3\n",
            ".........vars\n",
            "......dropout_4\n",
            ".........vars\n",
            "......global_average_pooling2d\n",
            ".........vars\n",
            "......max_pooling2d\n",
            ".........vars\n",
            "......max_pooling2d_1\n",
            ".........vars\n",
            "......max_pooling2d_2\n",
            ".........vars\n",
            "......max_pooling2d_3\n",
            ".........vars\n",
            "......max_pooling2d_4\n",
            ".........vars\n",
            "......max_pooling2d_5\n",
            ".........vars\n",
            "...metrics\n",
            "......mean\n",
            ".........vars\n",
            "............0\n",
            "............1\n",
            "......mean_metric_wrapper\n",
            ".........vars\n",
            "............0\n",
            "............1\n",
            "...optimizer\n",
            "......vars\n",
            ".........0\n",
            ".........1\n",
            ".........10\n",
            ".........11\n",
            ".........12\n",
            ".........13\n",
            ".........14\n",
            ".........15\n",
            ".........16\n",
            ".........17\n",
            ".........18\n",
            ".........19\n",
            ".........2\n",
            ".........20\n",
            ".........21\n",
            ".........22\n",
            ".........23\n",
            ".........24\n",
            ".........25\n",
            ".........26\n",
            ".........27\n",
            ".........28\n",
            ".........3\n",
            ".........4\n",
            ".........5\n",
            ".........6\n",
            ".........7\n",
            ".........8\n",
            ".........9\n",
            "...vars\n"
          ]
        }
      ],
      "source": [
        "pickled_model = pickle.load(open('/content/drive/MyDrive/model.pkl', 'rb'))"
      ]
    },
    {
      "cell_type": "code",
      "execution_count": 7,
      "metadata": {
        "colab": {
          "base_uri": "https://localhost:8080/"
        },
        "id": "XqrY-sBSIWMo",
        "outputId": "b5ba579a-612e-4f95-b2ff-53aa51671bd1"
      },
      "outputs": [
        {
          "name": "stdout",
          "output_type": "stream",
          "text": [
            "1/1 [==============================] - 1s 509ms/step\n",
            "[1. 0.]\n"
          ]
        }
      ],
      "source": [
        "from keras.models import load_model\n",
        "import cv2\n",
        "import numpy as np\n",
        "pickled_model.compile(loss='binary_crossentropy',\n",
        "              optimizer='rmsprop',\n",
        "              metrics=['accuracy'])\n",
        "\n",
        "img = cv2.imread('/content/drive/MyDrive/faceimg/image.jpg')\n",
        "gray=cv2.cvtColor(img, cv2.COLOR_BGR2GRAY)\n",
        "gray = cv2.resize(gray,(96,96))\n",
        "# img = np.reshape(img,[1,96,96,1])\n",
        "\n",
        "# image = np.array(Image.open(\"/content/drive/MyDrive/Fake-Face-Detection-DeepFakes-CNN-master/faces/train/image_1007.jpg\").resize((96, 96)))\n",
        "images_list = []\n",
        "images_list.append(np.array(gray))\n",
        "x = np.asarray(images_list)\n",
        "pr_mask = pickled_model.predict(x).round()\n",
        "\n",
        "# plt.imshow(\n",
        "# pr_mask[0]\n",
        "# )\n",
        "# plt.show()\n",
        "print(pr_mask[0])\n",
        "#classes = pickled_model.predict_classes(img)\n",
        "#predict_x=pickled_model.predict(img) \n",
        "#classes_x=np.argmax(predict_x,axis=1)\n",
        "\n",
        "#print (predict_x)"
      ]
    }
  ],
  "metadata": {
    "colab": {
      "provenance": []
    },
    "kernelspec": {
      "display_name": "base",
      "language": "python",
      "name": "python3"
    },
    "language_info": {
      "name": "python",
      "version": "3.9.7"
    },
    "vscode": {
      "interpreter": {
        "hash": "ad2bdc8ecc057115af97d19610ffacc2b4e99fae6737bb82f5d7fb13d2f2c186"
      }
    }
  },
  "nbformat": 4,
  "nbformat_minor": 0
}
